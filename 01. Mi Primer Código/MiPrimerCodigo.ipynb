{
 "cells": [
  {
   "cell_type": "markdown",
   "metadata": {},
   "source": [
    "Este código tiene la finalidad de obtener una calificación con base en dos notas con distinta ponderación."
   ]
  },
  {
   "cell_type": "code",
   "execution_count": null,
   "metadata": {},
   "outputs": [],
   "source": [
    "valor1 = 0.40\n",
    "valor2 = 0.60\n",
    "\n",
    "nota1 = int(input(\"¿Cuál es el valor de la primera nota? \"))\n",
    "nota2 = int(input(\"¿Cuál es el valor de la segunda nota? \"))\n",
    "\n",
    "total = (valor1*nota1)+(valor2*nota2)\n",
    "\n",
    "print(\"La calificación es: \", total)"
   ]
  }
 ],
 "metadata": {
  "kernelspec": {
   "display_name": "Python 3.9.12 ('base')",
   "language": "python",
   "name": "python3"
  },
  "language_info": {
   "codemirror_mode": {
    "name": "ipython",
    "version": 3
   },
   "file_extension": ".py",
   "mimetype": "text/x-python",
   "name": "python",
   "nbconvert_exporter": "python",
   "pygments_lexer": "ipython3",
   "version": "3.9.12"
  },
  "orig_nbformat": 4,
  "vscode": {
   "interpreter": {
    "hash": "b8939ae6302d706547273c597dd3be7d36d3b4c2b9aa367c9a420125c13753bf"
   }
  }
 },
 "nbformat": 4,
 "nbformat_minor": 2
}
