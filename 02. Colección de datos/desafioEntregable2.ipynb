{
 "cells": [
  {
   "cell_type": "markdown",
   "id": "04b9488c",
   "metadata": {},
   "source": [
    "# Entregable Clase 2"
   ]
  },
  {
   "cell_type": "markdown",
   "id": "8ca67ef7",
   "metadata": {},
   "source": [
    "Identifica el tipo de dato (int, float, string, list o touple) de los siguientes valores literales:"
   ]
  },
  {
   "cell_type": "code",
   "execution_count": 2,
   "id": "859787ba",
   "metadata": {},
   "outputs": [
    {
     "data": {
      "text/plain": [
       "list"
      ]
     },
     "execution_count": 2,
     "metadata": {},
     "output_type": "execute_result"
    }
   ],
   "source": [
    "dato1 = \"Hola Mundo\" \n",
    "dato2 = [1, 10, 100]\n",
    "dato3 = -25\n",
    "dato4 = (8, 100, -12)\n",
    "dato5 = 1.167\n",
    "dato6 = [\"Hola\", \"Mundo\"]\n",
    "dato7 = ' '\n",
    "dato8 = (1, -5, \"Hola!\")"
   ]
  },
  {
   "cell_type": "code",
   "execution_count": 3,
   "id": "7cad0d9e",
   "metadata": {},
   "outputs": [
    {
     "data": {
      "text/plain": [
       "str"
      ]
     },
     "execution_count": 3,
     "metadata": {},
     "output_type": "execute_result"
    }
   ],
   "source": [
    "type(dato1)"
   ]
  },
  {
   "cell_type": "code",
   "execution_count": 4,
   "id": "76d95b9e",
   "metadata": {},
   "outputs": [
    {
     "data": {
      "text/plain": [
       "list"
      ]
     },
     "execution_count": 4,
     "metadata": {},
     "output_type": "execute_result"
    }
   ],
   "source": [
    "type(dato2)"
   ]
  },
  {
   "cell_type": "code",
   "execution_count": 5,
   "id": "2040978a",
   "metadata": {},
   "outputs": [
    {
     "data": {
      "text/plain": [
       "int"
      ]
     },
     "execution_count": 5,
     "metadata": {},
     "output_type": "execute_result"
    }
   ],
   "source": [
    "type(dato3)"
   ]
  },
  {
   "cell_type": "code",
   "execution_count": 6,
   "id": "f9ac2710",
   "metadata": {},
   "outputs": [
    {
     "data": {
      "text/plain": [
       "tuple"
      ]
     },
     "execution_count": 6,
     "metadata": {},
     "output_type": "execute_result"
    }
   ],
   "source": [
    "type(dato4)"
   ]
  },
  {
   "cell_type": "code",
   "execution_count": 7,
   "id": "ba48fdc8",
   "metadata": {},
   "outputs": [
    {
     "data": {
      "text/plain": [
       "float"
      ]
     },
     "execution_count": 7,
     "metadata": {},
     "output_type": "execute_result"
    }
   ],
   "source": [
    "type(dato5)"
   ]
  },
  {
   "cell_type": "code",
   "execution_count": 8,
   "id": "6c092ff9",
   "metadata": {},
   "outputs": [
    {
     "data": {
      "text/plain": [
       "list"
      ]
     },
     "execution_count": 8,
     "metadata": {},
     "output_type": "execute_result"
    }
   ],
   "source": [
    "type(dato6)"
   ]
  },
  {
   "cell_type": "markdown",
   "id": "dc88f6c7",
   "metadata": {},
   "source": [
    "Determina mentalmente (sin programar) el resultado que aparecerá por pantalla a partir de las siguientes variables:"
   ]
  },
  {
   "cell_type": "markdown",
   "id": "fd35c772",
   "metadata": {},
   "source": [
    "a = 10\n",
    "b = -5\n",
    "c = \"Hola\"\n",
    "d = [1, 2, 3]\n",
    "e= (4,5,6)"
   ]
  },
  {
   "cell_type": "markdown",
   "id": "c11abcf3",
   "metadata": {},
   "source": [
    "print(a * 5)  \n",
    "print(a - b)    \n",
    "print(c + \"Mundo\")\n",
    "print(c * 2)        \n",
    "print(c[-1])        \n",
    "print(c[1:])    \n",
    "print(d + d)       \n",
    "print(e[1])\n",
    "print(e+(7,8,9))\n",
    "\n",
    "\n",
    "\n",
    "1. 50\n",
    "2. 15\n",
    "3. HolaMundo\n",
    "4. HolaHola\n",
    "5. a\n",
    "6. ola\n",
    "7. [1,2,3,1,2,3]\n",
    "8. 5\n",
    "9. (4,5,6,7,8,9)"
   ]
  },
  {
   "cell_type": "markdown",
   "id": "52ea0ea1",
   "metadata": {},
   "source": [
    "El siguiente código pretende realizar una media entre 3 números, pero no funciona correctamente. ¿Eres capaz de identificar el problema y solucionarlo?"
   ]
  },
  {
   "cell_type": "markdown",
   "id": "4802564a",
   "metadata": {},
   "source": [
    "numero_1 = 9\n",
    "numero_2 = 3\n",
    "numero_3 = 6\n",
    "\n",
    "media = numero_1 + numero_2 + numero_3 / 3\n",
    "print(\"La nota media es\", media)\n",
    "La nota media es 14.0\n",
    "\n",
    "Respuesta: Debido a que no hay parétesis, se está haciendo la media así: 9 + 3 + 6/3 = 9 + 3 + 2 = 14\n",
    "Por lo que se debería de escribir así: media = (numero_1 + numero_2 + numero_3) / 3"
   ]
  },
  {
   "cell_type": "markdown",
   "id": "1a389703",
   "metadata": {},
   "source": [
    "A partir del ejercicio anterior, desarrolla un programa para calcular la nota final. Para ello vamos a suponer que cada número es una nota y que queremos obtener la nota media. Cada nota tiene un valor porcentual:"
   ]
  },
  {
   "cell_type": "markdown",
   "id": "1eefdb59",
   "metadata": {},
   "source": [
    "La primera nota vale un 15% del total\n",
    "\n",
    "La segunda nota vale un 35% del total\n",
    "\n",
    "La tercera nota vale un 50% del total\n",
    "\n",
    "Ejemplos:\n",
    "\n",
    "nota_1 = 10\n",
    "\n",
    "nota_2 = 7\n",
    "\n",
    "nota_3 = 4"
   ]
  },
  {
   "cell_type": "code",
   "execution_count": 28,
   "id": "8fa89161",
   "metadata": {},
   "outputs": [
    {
     "name": "stdout",
     "output_type": "stream",
     "text": [
      "Tú nota final es:  5.95\n"
     ]
    }
   ],
   "source": [
    "valorNota1 = 0.15\n",
    "valorNota2 = 0.35\n",
    "valorNota3 = 0.50\n",
    "\n",
    "nota1 = 10\n",
    "nota2 = 7\n",
    "nota3 = 4\n",
    "\n",
    "total = round((nota1 * valorNota1) + (nota2 * valorNota2) + (nota3 * valorNota3),2)\n",
    "\n",
    "print(\"Tú nota final es: \",total)"
   ]
  },
  {
   "cell_type": "markdown",
   "id": "bc325dc4",
   "metadata": {},
   "source": [
    "La siguiente matriz (o lista con listas anidadas) debe cumplir una condición: en cada fila el cuarto elemento siempre debe ser el resultado de sumar los tres primeros. ¿Eres capaz de modificar las sumas incorrectas utilizando la técnica del slicing?"
   ]
  },
  {
   "cell_type": "markdown",
   "id": "1f4c59f4",
   "metadata": {},
   "source": [
    "Partirás de: \n",
    "matriz = [ \n",
    "    [1, 5, 1],\n",
    "    [2, 1, 2],\n",
    "    [3, 0, 1],\n",
    "    [1, 4, 4]\n",
    "]\n",
    "\n",
    "Debes llegar a: \n",
    "\n",
    "matriz = [ \n",
    "    [1, 5, 1, 7],\n",
    "    [2, 1, 2, 5],\n",
    "    [3, 0, 1, 4],\n",
    "    [1, 4, 4, 9]\n",
    "]\n"
   ]
  },
  {
   "cell_type": "code",
   "execution_count": 36,
   "id": "167291b8",
   "metadata": {},
   "outputs": [],
   "source": [
    "matriz = [[1, 5, 1],\n",
    "          [2, 1, 2],\n",
    "          [3, 0, 1],\n",
    "          [1, 4, 4]]\n",
    "\n",
    "#Sumar los valores de cada posición.\n",
    "suma1 = sum(matriz[0])\n",
    "suma2 = sum(matriz[1])\n",
    "suma3 = sum(matriz[2])\n",
    "suma4 = sum(matriz[3])"
   ]
  },
  {
   "cell_type": "code",
   "execution_count": 37,
   "id": "8afed5c3",
   "metadata": {},
   "outputs": [],
   "source": [
    "#Con slice se desanidan las listas y se asignan a una variable\n",
    "matriz1 = matriz[:1] #[1, 5, 1]\n",
    "matriz2 = matriz[1:2] #[2, 1, 2]\n",
    "matriz3 = matriz[2:3] #[3, 0, 1]\n",
    "matriz4 = matriz[3:4] #[1, 4, 4]"
   ]
  },
  {
   "cell_type": "code",
   "execution_count": 38,
   "id": "fdd7c3e2",
   "metadata": {},
   "outputs": [],
   "source": [
    "#Añade el valor sumado DENTRO de la lista con el [0] por ser 3 elementos en una posición.\n",
    "matriz1[0].append(suma1)\n",
    "matriz2[0].append(suma2)\n",
    "matriz3[0].append(suma3)\n",
    "matriz4[0].append(suma4)"
   ]
  },
  {
   "cell_type": "code",
   "execution_count": 39,
   "id": "2843ee4c",
   "metadata": {},
   "outputs": [
    {
     "name": "stdout",
     "output_type": "stream",
     "text": [
      "[[1, 5, 1, 7], [2, 1, 2, 5], [3, 0, 1, 4], [1, 4, 4, 9]]\n"
     ]
    }
   ],
   "source": [
    "#Se imprime la matriz final concatenando las listas individuales.\n",
    "matrizFinal = matriz1 + matriz2 + matriz3 + matriz4\n",
    "print(matrizFinal)"
   ]
  }
 ],
 "metadata": {
  "kernelspec": {
   "display_name": "Python 3.9.12 ('base')",
   "language": "python",
   "name": "python3"
  },
  "language_info": {
   "codemirror_mode": {
    "name": "ipython",
    "version": 3
   },
   "file_extension": ".py",
   "mimetype": "text/x-python",
   "name": "python",
   "nbconvert_exporter": "python",
   "pygments_lexer": "ipython3",
   "version": "3.9.12"
  },
  "vscode": {
   "interpreter": {
    "hash": "b8939ae6302d706547273c597dd3be7d36d3b4c2b9aa367c9a420125c13753bf"
   }
  }
 },
 "nbformat": 4,
 "nbformat_minor": 5
}
