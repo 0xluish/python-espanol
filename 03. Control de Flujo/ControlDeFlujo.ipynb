{
 "cells": [
  {
   "attachments": {},
   "cell_type": "markdown",
   "metadata": {},
   "source": [
    "1. Escribe un programa que lea dos números y permita elegir entre 4 opciones en un menú:\n",
    "    1. Mostrar una suma de los dos números\n",
    "    2. Mostrar una resta de los dos números (el primero menos el segundo)\n",
    "    3. Mostrar una multiplicación de los dos números\n",
    "    4. Si elige esta opción se interrumpirá la impresión del menú y el programa finalizará\n",
    "    5. En caso de no introducir una opción válida, el programa informará de que no es correcta.\n"
   ]
  },
  {
   "cell_type": "code",
   "execution_count": 24,
   "metadata": {},
   "outputs": [
    {
     "name": "stdout",
     "output_type": "stream",
     "text": [
      "\n",
      "\t***Selecciona una opción del menú***\n",
      "\n",
      "1. Sumar los números ingresados.\n",
      "2. Restar los número ingresados (el primero menos el segundo).\n",
      "3. Mutiplicar ambos números.\n",
      "4. Finalizar sesión\n",
      "La resta de 1-1 es:  0\n",
      "La multiplicación de 1*1 es:  1\n"
     ]
    }
   ],
   "source": [
    "print(\"\\n\\t***Selecciona una opción del menú***\\n\")\n",
    "print(\"1. Sumar los números ingresados.\")\n",
    "print(\"2. Restar los número ingresados (el primero menos el segundo).\")\n",
    "print(\"3. Mutiplicar ambos números.\")\n",
    "print(\"4. Finalizar sesión\")\n",
    "\n",
    "a = int(input(\"Ingresa el primer número: \"))\n",
    "b = int(input(\"Ingresa el segundo número: \"))\n",
    "opcion = int(input(\"\\nIngresa únicamente el número de la opción que quieras hacer:  \"))\n",
    "\n",
    "if(opcion == 1):\n",
    "    print(f\"La suma de {a}+{b} es: \",a+b)\n",
    "    opcion = int(input(\"\\nIngresa únicamente el número de la opción que quieras hacer:  \"))\n",
    "elif(opcion == 2):\n",
    "    print(f\"La resta de {a}-{b} es: \",a-b)\n",
    "    opcion = int(input(\"\\nIngresa únicamente el número de la opción que quieras hacer:  \"))\n",
    "elif(opcion == 3):\n",
    "    print(f\"La multiplicación de {a}*{b} es: \",a*b)\n",
    "    opcion = int(input(\"\\nIngresa únicamente el número de la opción que quieras hacer:  \"))\n",
    "elif(opcion == 4):\n",
    "    pass\n",
    "# else:\n",
    "#     print(\"Opción no válida, volver a ingresar selección.\")\n"
   ]
  },
  {
   "attachments": {},
   "cell_type": "markdown",
   "metadata": {},
   "source": [
    "2. Escribe un programa que lea un número impar por teclado. Si el usuario no introduce un número impar, debe repetirse el proceso hasta que lo introduzca correctamente."
   ]
  },
  {
   "cell_type": "code",
   "execution_count": 22,
   "metadata": {},
   "outputs": [],
   "source": [
    "impar = int(input(\"Introduce un número impar: \"))\n",
    "while impar % 2 == 0:\n",
    "    impar = int(input(\"Introduce un número impar: \"))"
   ]
  },
  {
   "attachments": {},
   "cell_type": "markdown",
   "metadata": {},
   "source": [
    "3. Escribe un programa que sume todos los números enteros impares desde el 0 hasta el 100:\n",
    "\n",
    "Ayuda: Podes utilizar la funciones sum() y range() para hacerlo más fácil. El tercer parámetro en la función range(inicio, fin, salto) indica un salto de números."
   ]
  },
  {
   "cell_type": "code",
   "execution_count": 40,
   "metadata": {},
   "outputs": [
    {
     "name": "stdout",
     "output_type": "stream",
     "text": [
      "5050\n"
     ]
    }
   ],
   "source": [
    "suma = 0\n",
    "for numero in range(1,101,1):\n",
    "    suma += numero\n",
    "print(suma)"
   ]
  },
  {
   "attachments": {},
   "cell_type": "markdown",
   "metadata": {},
   "source": [
    "4. Escribe un programa que pida al usuario cuantos números quiere introducir. Luego lee todos los números y realiza una media aritmética:"
   ]
  },
  {
   "cell_type": "code",
   "execution_count": null,
   "metadata": {},
   "outputs": [],
   "source": [
    "# cantidad = int(input(\"¿Cuántos números se ingresarán al programa? \"))\n",
    "# for number in cantidad:"
   ]
  },
  {
   "cell_type": "markdown",
   "metadata": {},
   "source": [
    "5. Escribí un programa que pida al usuario un número entero del 0 al 9, y que mientras el número no sea correcto se repita el proceso. Luego debe comprobar si el número se encuentra en la lista de números y notificarlo.\n",
    "\n",
    "Ayuda: La sintaxis \"valor in lista\" permite comprobar fácilmente si un valor se encuentra en una lista (devuelve True o False)"
   ]
  },
  {
   "cell_type": "code",
   "execution_count": null,
   "metadata": {},
   "outputs": [],
   "source": []
  },
  {
   "cell_type": "markdown",
   "metadata": {},
   "source": [
    "6. Utilizando la función range() y la conversión a listas genera las siguientes listas dinámicamente:\n",
    "\n",
    "    1. Todos los números del 0 al 10 [0, 1, 2, ..., 10]\n",
    "    2. Todos los números del -10 al 0 [-10, -9, -8, ..., 0]\n",
    "    3. Todos los números pares del 0 al 20 [0, 2, 4, ..., 20]\n",
    "    4. Todos los números impares entre -20 y 0 [-19, -17, -15, ..., -1]\n",
    "    5. Todos los números múltiples de 5 del 0 al 50 [0, 5, 10, ..., 50]\n",
    "    \n",
    "Ayuda: la conversión de listas es mi_lista=list(range(inicio,fin,salto))"
   ]
  }
 ],
 "metadata": {
  "kernelspec": {
   "display_name": "Python 3.9.12 ('base')",
   "language": "python",
   "name": "python3"
  },
  "language_info": {
   "codemirror_mode": {
    "name": "ipython",
    "version": 3
   },
   "file_extension": ".py",
   "mimetype": "text/x-python",
   "name": "python",
   "nbconvert_exporter": "python",
   "pygments_lexer": "ipython3",
   "version": "3.9.12"
  },
  "orig_nbformat": 4,
  "vscode": {
   "interpreter": {
    "hash": "b8939ae6302d706547273c597dd3be7d36d3b4c2b9aa367c9a420125c13753bf"
   }
  }
 },
 "nbformat": 4,
 "nbformat_minor": 2
}
