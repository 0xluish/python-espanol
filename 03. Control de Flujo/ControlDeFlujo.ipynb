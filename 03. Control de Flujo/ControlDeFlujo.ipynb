{
 "cells": [
  {
   "cell_type": "markdown",
   "metadata": {},
   "source": [
    "1. Escribí un programa que lea dos números por teclado y permita elegir entre 4 opciones en un menú:\n",
    "    1. Mostrar una suma de los dos números\n",
    "    2. Mostrar una resta de los dos números (el primero menos el segundo)\n",
    "    3. Mostrar una multiplicación de los dos números\n",
    "    4. Si elige esta opción se interrumpirá la impresión del menú y el programa finalizará\n",
    "    5. En caso de no introducir una opción válida, el programa informará de que no es correcta.\n"
   ]
  },
  {
   "cell_type": "code",
   "execution_count": null,
   "metadata": {},
   "outputs": [],
   "source": []
  },
  {
   "cell_type": "markdown",
   "metadata": {},
   "source": [
    "2. Escribí un programa que lea un número impar por teclado. Si el usuario no introduce un número impar, debe repetirse el proceso hasta que lo introduzca correctamente."
   ]
  },
  {
   "cell_type": "code",
   "execution_count": null,
   "metadata": {},
   "outputs": [],
   "source": []
  },
  {
   "cell_type": "markdown",
   "metadata": {},
   "source": [
    "3. Escribí un programa que sume todos los números enteros impares desde el 0 hasta el 100:\n",
    "\n",
    "Ayuda: Podes utilizar la funciones sum() y range() para hacerlo más fácil. El tercer parámetro en la función range(inicio, fin, salto) indica un salto de números."
   ]
  },
  {
   "cell_type": "code",
   "execution_count": null,
   "metadata": {},
   "outputs": [],
   "source": []
  },
  {
   "cell_type": "markdown",
   "metadata": {},
   "source": [
    "4. Escribí un programa que pida al usuario cuantos números quiere introducir. Luego lee todos los números y realiza una media aritmética:"
   ]
  },
  {
   "cell_type": "code",
   "execution_count": null,
   "metadata": {},
   "outputs": [],
   "source": []
  },
  {
   "cell_type": "markdown",
   "metadata": {},
   "source": [
    "5. Escribí un programa que pida al usuario un número entero del 0 al 9, y que mientras el número no sea correcto se repita el proceso. Luego debe comprobar si el número se encuentra en la lista de números y notificarlo.\n",
    "\n",
    "Ayuda: La sintaxis \"valor in lista\" permite comprobar fácilmente si un valor se encuentra en una lista (devuelve True o False)"
   ]
  },
  {
   "cell_type": "code",
   "execution_count": null,
   "metadata": {},
   "outputs": [],
   "source": []
  },
  {
   "cell_type": "markdown",
   "metadata": {},
   "source": [
    "6. Utilizando la función range() y la conversión a listas genera las siguientes listas dinámicamente:\n",
    "\n",
    "    1. Todos los números del 0 al 10 [0, 1, 2, ..., 10]\n",
    "    2. Todos los números del -10 al 0 [-10, -9, -8, ..., 0]\n",
    "    3. Todos los números pares del 0 al 20 [0, 2, 4, ..., 20]\n",
    "    4. Todos los números impares entre -20 y 0 [-19, -17, -15, ..., -1]\n",
    "    5. Todos los números múltiples de 5 del 0 al 50 [0, 5, 10, ..., 50]\n",
    "    \n",
    "Ayuda: la conversión de listas es mi_lista=list(range(inicio,fin,salto))"
   ]
  }
 ],
 "metadata": {
  "kernelspec": {
   "display_name": "Python 3.9.12 ('base')",
   "language": "python",
   "name": "python3"
  },
  "language_info": {
   "name": "python",
   "version": "3.9.12"
  },
  "orig_nbformat": 4,
  "vscode": {
   "interpreter": {
    "hash": "b8939ae6302d706547273c597dd3be7d36d3b4c2b9aa367c9a420125c13753bf"
   }
  }
 },
 "nbformat": 4,
 "nbformat_minor": 2
}
