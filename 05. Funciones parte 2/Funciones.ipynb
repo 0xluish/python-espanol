{
 "cells": [
  {
   "cell_type": "markdown",
   "metadata": {},
   "source": [
    "1. Realiza una función llamada area_rectangulo() que devuelva el área del rectángulo a partir de una base y una altura. Calcula el área de un rectángulo de 15 de base y 10 de altura."
   ]
  },
  {
   "cell_type": "code",
   "execution_count": 1,
   "metadata": {},
   "outputs": [
    {
     "name": "stdout",
     "output_type": "stream",
     "text": [
      "El área del rectángulo es 150 unidades cuadradas.\n"
     ]
    }
   ],
   "source": [
    "def areaRectangulo():\n",
    "  base = 15\n",
    "  altura = 10\n",
    "  area = base * altura\n",
    "  print(f\"El área del rectángulo es {area} unidades cuadradas.\")\n",
    "\n",
    "areaRectangulo()"
   ]
  },
  {
   "cell_type": "markdown",
   "metadata": {},
   "source": [
    "2. Realiza una función llamada area_circulo() que devuelva el área de un círculo a partir de un radio. Calcula el área de un círculo de 5 de radio."
   ]
  },
  {
   "cell_type": "code",
   "execution_count": 2,
   "metadata": {},
   "outputs": [
    {
     "name": "stdout",
     "output_type": "stream",
     "text": [
      "El área del círculo es 78.54 unidades cuadradas\n"
     ]
    }
   ],
   "source": [
    "import math\n",
    "\n",
    "def areaCirculo():\n",
    "  radio = 5\n",
    "  area = math.pi * (radio ** 2)\n",
    "  area = round(area,2)\n",
    "  print(f\"El área del círculo es {area} unidades cuadradas\")\n",
    "\n",
    "areaCirculo()"
   ]
  },
  {
   "cell_type": "markdown",
   "metadata": {},
   "source": [
    "3.  Realiza una función llamada relacion() que a partir de dos números cumpla lo siguiente:\n",
    "    1. Si el primer número es mayor que el segundo, debe devolver 1.\n",
    "    2. Si el primer número es menor que el segundo, debe devolver -1.\n",
    "    3. Si ambos números son iguales, debe devolver un 0.\n",
    "\n",
    "Comprueba la relación entre los números: '5 y 10', '10 y 5' y '5 y 5'."
   ]
  },
  {
   "cell_type": "code",
   "execution_count": 3,
   "metadata": {},
   "outputs": [
    {
     "name": "stdout",
     "output_type": "stream",
     "text": [
      "-1\n"
     ]
    }
   ],
   "source": [
    "a = int(input(\"Ingresa el primer numero: \"))\n",
    "b = int(input(\"Ingresa el segundo numero: \"))\n",
    "\n",
    "def relacion(a,b):\n",
    "  if (a>b):\n",
    "    print(1)\n",
    "  elif (a<b):\n",
    "    print(-1)\n",
    "  else:\n",
    "    print(0)\n",
    "\n",
    "relacion(a,b)"
   ]
  },
  {
   "cell_type": "markdown",
   "metadata": {},
   "source": [
    "4. Realiza una función llamada intermedio() que a partir de dos números, devuelva su punto intermedio.\n",
    "\n",
    "Comprueba el punto intermedio entre -12 y 24."
   ]
  },
  {
   "cell_type": "code",
   "execution_count": 4,
   "metadata": {},
   "outputs": [
    {
     "name": "stdout",
     "output_type": "stream",
     "text": [
      "El punto intermedio de tus dos números es 6.0\n"
     ]
    }
   ],
   "source": [
    "a = int(input(\"Ingresa el primer número: \"))\n",
    "b = int(input(\"Ingresa el segundo número: \"))\n",
    "\n",
    "def intermedio(a,b):\n",
    "  medio = (a+b)/2\n",
    "  print(f\"El punto intermedio de tus dos números es {medio}\")\n",
    "\n",
    "intermedio(a,b)"
   ]
  },
  {
   "cell_type": "markdown",
   "metadata": {},
   "source": [
    "5. Realiza una función llamada recortar() que reciba tres parámetros. El primero es el número a recortar, el segundo es el límite inferior y el tercero el límite superior. La función tendrá que cumplir lo siguiente:\n",
    "    1. Devolver el límite inferior si el número es menor que éste\n",
    "    2. Devolver el límite superior si el número es mayor que éste.\n",
    "    3. Devolver el número sin cambios si no se supera ningún límite.\n",
    "\n",
    "Comprueba el resultado de recortar 15 entre los límites 0 y 10."
   ]
  },
  {
   "cell_type": "code",
   "execution_count": 1,
   "metadata": {},
   "outputs": [
    {
     "data": {
      "text/plain": [
       "10"
      ]
     },
     "execution_count": 1,
     "metadata": {},
     "output_type": "execute_result"
    }
   ],
   "source": [
    "# def Usuario():\n",
    "#     num_recortar = int(input(\"Ingresa númer a recortar: \"))\n",
    "#     inferior  =int(input(\"Ingresa límite inferior: \"))\n",
    "#     superior = int(input(\"Ingresa límite superior: \"))\n",
    "\n",
    "# Usuario(num_recortar,inferior,superior)\n",
    "\n",
    "# if(Usuario.inferior > Usuario.superior):\n",
    "#     print(\"Tu límite inferior es un número mayor al límite superior\")\n",
    "#     Usuario()\n",
    "\n",
    "num_recortar = int(input(\"Ingresa númer a recortar: \"))\n",
    "inferior  =int(input(\"Ingresa límite inferior: \"))\n",
    "superior = int(input(\"Ingresa límite superior: \"))\n",
    "\n",
    "def Recortar(num_recortar,inferior,superior):\n",
    "    if(num_recortar < inferior):\n",
    "        return inferior\n",
    "    elif(num_recortar > superior):\n",
    "        return superior\n",
    "    else:\n",
    "        return num_recortar\n",
    "Recortar(num_recortar,inferior,superior)"
   ]
  },
  {
   "cell_type": "markdown",
   "metadata": {},
   "source": [
    "6. Realiza una función separar() que tome una lista de números enteros y devuelva dos listas ordenadas. La primera con los números pares, y la segunda con los números impares.\n",
    "\n",
    "Ayuda: Para ordenar una lista automáticamente puedes usar el método .sort()"
   ]
  },
  {
   "cell_type": "code",
   "execution_count": 73,
   "metadata": {},
   "outputs": [
    {
     "name": "stdout",
     "output_type": "stream",
     "text": [
      "[2, 6, 8, 10]\n",
      "[1, 3, 5, 5, 7, 9]\n"
     ]
    }
   ],
   "source": [
    "lista = [1,2,5,5,3,6,7,8,9,10]\n",
    "listaPar = []\n",
    "listaImpar = []\n",
    "\n",
    "def Separar(lista,listaPar,listaImpar):\n",
    "    for valor in lista:\n",
    "        if(lista[valor-1] % 2 == 0):\n",
    "            listaPar.append(valor)\n",
    "            listaPar.sort()\n",
    "        else:\n",
    "            listaImpar.append(valor)\n",
    "            listaImpar.sort()\n",
    "        valor += 1\n",
    "    print(listaPar)\n",
    "    print(listaImpar)\n",
    "\n",
    "Separar(lista,listaPar,listaImpar)"
   ]
  }
 ],
 "metadata": {
  "kernelspec": {
   "display_name": "Python 3.9.12 ('base')",
   "language": "python",
   "name": "python3"
  },
  "language_info": {
   "codemirror_mode": {
    "name": "ipython",
    "version": 3
   },
   "file_extension": ".py",
   "mimetype": "text/x-python",
   "name": "python",
   "nbconvert_exporter": "python",
   "pygments_lexer": "ipython3",
   "version": "3.9.12"
  },
  "orig_nbformat": 4,
  "vscode": {
   "interpreter": {
    "hash": "b8939ae6302d706547273c597dd3be7d36d3b4c2b9aa367c9a420125c13753bf"
   }
  }
 },
 "nbformat": 4,
 "nbformat_minor": 2
}
